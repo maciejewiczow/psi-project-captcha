{
 "metadata": {
  "language_info": {
   "codemirror_mode": {
    "name": "ipython",
    "version": 3
   },
   "file_extension": ".py",
   "mimetype": "text/x-python",
   "name": "python",
   "nbconvert_exporter": "python",
   "pygments_lexer": "ipython3",
   "version": "3.8.5"
  },
  "orig_nbformat": 2,
  "kernelspec": {
   "name": "python385jvsc74a57bd0a707b6ce8c685eb936424fcc3009d4b4b7a52543c4db09380a3fc49186ceb509",
   "display_name": "Python 3.8.5 64-bit (conda)"
  }
 },
 "nbformat": 4,
 "nbformat_minor": 2,
 "cells": [
  {
   "cell_type": "code",
   "execution_count": 15,
   "metadata": {},
   "outputs": [],
   "source": [
    "import cv2\n",
    "import tensorflow as tf\n",
    "from os import path\n",
    "import os\n",
    "import random\n",
    "from matplotlib import pyplot as plt\n",
    "from model import make_model"
   ]
  },
  {
   "source": [
    "checkpoint_path=\"checkpoints\\\\chk1\\\\chk1\""
   ],
   "cell_type": "code",
   "metadata": {},
   "execution_count": 16,
   "outputs": []
  },
  {
   "cell_type": "code",
   "execution_count": 17,
   "metadata": {},
   "outputs": [],
   "source": [
    "model = make_model((50,50,3))"
   ]
  },
  {
   "cell_type": "code",
   "execution_count": 18,
   "metadata": {},
   "outputs": [
    {
     "output_type": "execute_result",
     "data": {
      "text/plain": [
       "<tensorflow.python.training.tracking.util.CheckpointLoadStatus at 0x1bc9d122310>"
      ]
     },
     "metadata": {},
     "execution_count": 18
    }
   ],
   "source": [
    "model.load_weights(checkpoint_path)"
   ]
  },
  {
   "cell_type": "code",
   "execution_count": 19,
   "metadata": {},
   "outputs": [],
   "source": [
    "datasetPath = \"lettersDataset_final\""
   ]
  },
  {
   "cell_type": "code",
   "execution_count": 20,
   "metadata": {},
   "outputs": [],
   "source": [
    "labels = [f.name for f in os.scandir(path.join(datasetPath, \"train\")) if f.is_dir()]"
   ]
  },
  {
   "cell_type": "code",
   "execution_count": 224,
   "metadata": {},
   "outputs": [],
   "source": [
    "# inputCaptchaPath = \"dataset\\\\caixa\\\\1luka.gif\"\n",
    "folder = \"lettersDataset_final\\\\test\\\\n\\\\\"\n",
    "inputCaptchaPath = path.join(folder, random.choice(os.listdir(folder)))"
   ]
  },
  {
   "cell_type": "code",
   "execution_count": 225,
   "metadata": {},
   "outputs": [
    {
     "output_type": "execute_result",
     "data": {
      "text/plain": [
       "<matplotlib.image.AxesImage at 0x1bda12dac70>"
      ]
     },
     "metadata": {},
     "execution_count": 225
    },
    {
     "output_type": "display_data",
     "data": {
      "text/plain": "<Figure size 432x288 with 1 Axes>",
      "image/svg+xml": "<?xml version=\"1.0\" encoding=\"utf-8\" standalone=\"no\"?>\r\n<!DOCTYPE svg PUBLIC \"-//W3C//DTD SVG 1.1//EN\"\r\n  \"http://www.w3.org/Graphics/SVG/1.1/DTD/svg11.dtd\">\r\n<!-- Created with matplotlib (https://matplotlib.org/) -->\r\n<svg height=\"250.142944pt\" version=\"1.1\" viewBox=\"0 0 251.565 250.142944\" width=\"251.565pt\" xmlns=\"http://www.w3.org/2000/svg\" xmlns:xlink=\"http://www.w3.org/1999/xlink\">\r\n <metadata>\r\n  <rdf:RDF xmlns:cc=\"http://creativecommons.org/ns#\" xmlns:dc=\"http://purl.org/dc/elements/1.1/\" xmlns:rdf=\"http://www.w3.org/1999/02/22-rdf-syntax-ns#\">\r\n   <cc:Work>\r\n    <dc:type rdf:resource=\"http://purl.org/dc/dcmitype/StillImage\"/>\r\n    <dc:date>2021-05-01T20:05:26.251242</dc:date>\r\n    <dc:format>image/svg+xml</dc:format>\r\n    <dc:creator>\r\n     <cc:Agent>\r\n      <dc:title>Matplotlib v3.3.2, https://matplotlib.org/</dc:title>\r\n     </cc:Agent>\r\n    </dc:creator>\r\n   </cc:Work>\r\n  </rdf:RDF>\r\n </metadata>\r\n <defs>\r\n  <style type=\"text/css\">*{stroke-linecap:butt;stroke-linejoin:round;}</style>\r\n </defs>\r\n <g id=\"figure_1\">\r\n  <g id=\"patch_1\">\r\n   <path d=\"M 0 250.142944 \r\nL 251.565 250.142944 \r\nL 251.565 0 \r\nL 0 0 \r\nz\r\n\" style=\"fill:none;\"/>\r\n  </g>\r\n  <g id=\"axes_1\">\r\n   <g id=\"patch_2\">\r\n    <path d=\"M 26.925 226.264819 \r\nL 244.365 226.264819 \r\nL 244.365 8.824819 \r\nL 26.925 8.824819 \r\nz\r\n\" style=\"fill:#ffffff;\"/>\r\n   </g>\r\n   <g clip-path=\"url(#p3bed14b1f5)\">\r\n    <image height=\"218\" id=\"imagecdd1fddf05\" transform=\"scale(1 -1)translate(0 -218)\" width=\"218\" x=\"26.925\" xlink:href=\"data:image/png;base64,\r\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\" y=\"-8.264819\"/>\r\n   </g>\r\n   <g id=\"matplotlib.axis_1\">\r\n    <g id=\"xtick_1\">\r\n     <g id=\"line2d_1\">\r\n      <defs>\r\n       <path d=\"M 0 0 \r\nL 0 3.5 \r\n\" id=\"m0d5d38b586\" style=\"stroke:#000000;stroke-width:0.8;\"/>\r\n      </defs>\r\n      <g>\r\n       <use style=\"stroke:#000000;stroke-width:0.8;\" x=\"29.0994\" xlink:href=\"#m0d5d38b586\" y=\"226.264819\"/>\r\n      </g>\r\n     </g>\r\n     <g id=\"text_1\">\r\n      <!-- 0 -->\r\n      <g transform=\"translate(25.91815 240.863256)scale(0.1 -0.1)\">\r\n       <defs>\r\n        <path d=\"M 31.78125 66.40625 \r\nQ 24.171875 66.40625 20.328125 58.90625 \r\nQ 16.5 51.421875 16.5 36.375 \r\nQ 16.5 21.390625 20.328125 13.890625 \r\nQ 24.171875 6.390625 31.78125 6.390625 \r\nQ 39.453125 6.390625 43.28125 13.890625 \r\nQ 47.125 21.390625 47.125 36.375 \r\nQ 47.125 51.421875 43.28125 58.90625 \r\nQ 39.453125 66.40625 31.78125 66.40625 \r\nz\r\nM 31.78125 74.21875 \r\nQ 44.046875 74.21875 50.515625 64.515625 \r\nQ 56.984375 54.828125 56.984375 36.375 \r\nQ 56.984375 17.96875 50.515625 8.265625 \r\nQ 44.046875 -1.421875 31.78125 -1.421875 \r\nQ 19.53125 -1.421875 13.0625 8.265625 \r\nQ 6.59375 17.96875 6.59375 36.375 \r\nQ 6.59375 54.828125 13.0625 64.515625 \r\nQ 19.53125 74.21875 31.78125 74.21875 \r\nz\r\n\" id=\"DejaVuSans-48\"/>\r\n       </defs>\r\n       <use xlink:href=\"#DejaVuSans-48\"/>\r\n      </g>\r\n     </g>\r\n    </g>\r\n    <g id=\"xtick_2\">\r\n     <g id=\"line2d_2\">\r\n      <g>\r\n       <use style=\"stroke:#000000;stroke-width:0.8;\" x=\"72.5874\" xlink:href=\"#m0d5d38b586\" y=\"226.264819\"/>\r\n      </g>\r\n     </g>\r\n     <g id=\"text_2\">\r\n      <!-- 10 -->\r\n      <g transform=\"translate(66.2249 240.863256)scale(0.1 -0.1)\">\r\n       <defs>\r\n        <path d=\"M 12.40625 8.296875 \r\nL 28.515625 8.296875 \r\nL 28.515625 63.921875 \r\nL 10.984375 60.40625 \r\nL 10.984375 69.390625 \r\nL 28.421875 72.90625 \r\nL 38.28125 72.90625 \r\nL 38.28125 8.296875 \r\nL 54.390625 8.296875 \r\nL 54.390625 0 \r\nL 12.40625 0 \r\nz\r\n\" id=\"DejaVuSans-49\"/>\r\n       </defs>\r\n       <use xlink:href=\"#DejaVuSans-49\"/>\r\n       <use x=\"63.623047\" xlink:href=\"#DejaVuSans-48\"/>\r\n      </g>\r\n     </g>\r\n    </g>\r\n    <g id=\"xtick_3\">\r\n     <g id=\"line2d_3\">\r\n      <g>\r\n       <use style=\"stroke:#000000;stroke-width:0.8;\" x=\"116.0754\" xlink:href=\"#m0d5d38b586\" y=\"226.264819\"/>\r\n      </g>\r\n     </g>\r\n     <g id=\"text_3\">\r\n      <!-- 20 -->\r\n      <g transform=\"translate(109.7129 240.863256)scale(0.1 -0.1)\">\r\n       <defs>\r\n        <path d=\"M 19.1875 8.296875 \r\nL 53.609375 8.296875 \r\nL 53.609375 0 \r\nL 7.328125 0 \r\nL 7.328125 8.296875 \r\nQ 12.9375 14.109375 22.625 23.890625 \r\nQ 32.328125 33.6875 34.8125 36.53125 \r\nQ 39.546875 41.84375 41.421875 45.53125 \r\nQ 43.3125 49.21875 43.3125 52.78125 \r\nQ 43.3125 58.59375 39.234375 62.25 \r\nQ 35.15625 65.921875 28.609375 65.921875 \r\nQ 23.96875 65.921875 18.8125 64.3125 \r\nQ 13.671875 62.703125 7.8125 59.421875 \r\nL 7.8125 69.390625 \r\nQ 13.765625 71.78125 18.9375 73 \r\nQ 24.125 74.21875 28.421875 74.21875 \r\nQ 39.75 74.21875 46.484375 68.546875 \r\nQ 53.21875 62.890625 53.21875 53.421875 \r\nQ 53.21875 48.921875 51.53125 44.890625 \r\nQ 49.859375 40.875 45.40625 35.40625 \r\nQ 44.1875 33.984375 37.640625 27.21875 \r\nQ 31.109375 20.453125 19.1875 8.296875 \r\nz\r\n\" id=\"DejaVuSans-50\"/>\r\n       </defs>\r\n       <use xlink:href=\"#DejaVuSans-50\"/>\r\n       <use x=\"63.623047\" xlink:href=\"#DejaVuSans-48\"/>\r\n      </g>\r\n     </g>\r\n    </g>\r\n    <g id=\"xtick_4\">\r\n     <g id=\"line2d_4\">\r\n      <g>\r\n       <use style=\"stroke:#000000;stroke-width:0.8;\" x=\"159.5634\" xlink:href=\"#m0d5d38b586\" y=\"226.264819\"/>\r\n      </g>\r\n     </g>\r\n     <g id=\"text_4\">\r\n      <!-- 30 -->\r\n      <g transform=\"translate(153.2009 240.863256)scale(0.1 -0.1)\">\r\n       <defs>\r\n        <path d=\"M 40.578125 39.3125 \r\nQ 47.65625 37.796875 51.625 33 \r\nQ 55.609375 28.21875 55.609375 21.1875 \r\nQ 55.609375 10.40625 48.1875 4.484375 \r\nQ 40.765625 -1.421875 27.09375 -1.421875 \r\nQ 22.515625 -1.421875 17.65625 -0.515625 \r\nQ 12.796875 0.390625 7.625 2.203125 \r\nL 7.625 11.71875 \r\nQ 11.71875 9.328125 16.59375 8.109375 \r\nQ 21.484375 6.890625 26.8125 6.890625 \r\nQ 36.078125 6.890625 40.9375 10.546875 \r\nQ 45.796875 14.203125 45.796875 21.1875 \r\nQ 45.796875 27.640625 41.28125 31.265625 \r\nQ 36.765625 34.90625 28.71875 34.90625 \r\nL 20.21875 34.90625 \r\nL 20.21875 43.015625 \r\nL 29.109375 43.015625 \r\nQ 36.375 43.015625 40.234375 45.921875 \r\nQ 44.09375 48.828125 44.09375 54.296875 \r\nQ 44.09375 59.90625 40.109375 62.90625 \r\nQ 36.140625 65.921875 28.71875 65.921875 \r\nQ 24.65625 65.921875 20.015625 65.03125 \r\nQ 15.375 64.15625 9.8125 62.3125 \r\nL 9.8125 71.09375 \r\nQ 15.4375 72.65625 20.34375 73.4375 \r\nQ 25.25 74.21875 29.59375 74.21875 \r\nQ 40.828125 74.21875 47.359375 69.109375 \r\nQ 53.90625 64.015625 53.90625 55.328125 \r\nQ 53.90625 49.265625 50.4375 45.09375 \r\nQ 46.96875 40.921875 40.578125 39.3125 \r\nz\r\n\" id=\"DejaVuSans-51\"/>\r\n       </defs>\r\n       <use xlink:href=\"#DejaVuSans-51\"/>\r\n       <use x=\"63.623047\" xlink:href=\"#DejaVuSans-48\"/>\r\n      </g>\r\n     </g>\r\n    </g>\r\n    <g id=\"xtick_5\">\r\n     <g id=\"line2d_5\">\r\n      <g>\r\n       <use style=\"stroke:#000000;stroke-width:0.8;\" x=\"203.0514\" xlink:href=\"#m0d5d38b586\" y=\"226.264819\"/>\r\n      </g>\r\n     </g>\r\n     <g id=\"text_5\">\r\n      <!-- 40 -->\r\n      <g transform=\"translate(196.6889 240.863256)scale(0.1 -0.1)\">\r\n       <defs>\r\n        <path d=\"M 37.796875 64.3125 \r\nL 12.890625 25.390625 \r\nL 37.796875 25.390625 \r\nz\r\nM 35.203125 72.90625 \r\nL 47.609375 72.90625 \r\nL 47.609375 25.390625 \r\nL 58.015625 25.390625 \r\nL 58.015625 17.1875 \r\nL 47.609375 17.1875 \r\nL 47.609375 0 \r\nL 37.796875 0 \r\nL 37.796875 17.1875 \r\nL 4.890625 17.1875 \r\nL 4.890625 26.703125 \r\nz\r\n\" id=\"DejaVuSans-52\"/>\r\n       </defs>\r\n       <use xlink:href=\"#DejaVuSans-52\"/>\r\n       <use x=\"63.623047\" xlink:href=\"#DejaVuSans-48\"/>\r\n      </g>\r\n     </g>\r\n    </g>\r\n   </g>\r\n   <g id=\"matplotlib.axis_2\">\r\n    <g id=\"ytick_1\">\r\n     <g id=\"line2d_6\">\r\n      <defs>\r\n       <path d=\"M 0 0 \r\nL -3.5 0 \r\n\" id=\"mce7ec1537c\" style=\"stroke:#000000;stroke-width:0.8;\"/>\r\n      </defs>\r\n      <g>\r\n       <use style=\"stroke:#000000;stroke-width:0.8;\" x=\"26.925\" xlink:href=\"#mce7ec1537c\" y=\"10.999219\"/>\r\n      </g>\r\n     </g>\r\n     <g id=\"text_6\">\r\n      <!-- 0 -->\r\n      <g transform=\"translate(13.5625 14.798437)scale(0.1 -0.1)\">\r\n       <use xlink:href=\"#DejaVuSans-48\"/>\r\n      </g>\r\n     </g>\r\n    </g>\r\n    <g id=\"ytick_2\">\r\n     <g id=\"line2d_7\">\r\n      <g>\r\n       <use style=\"stroke:#000000;stroke-width:0.8;\" x=\"26.925\" xlink:href=\"#mce7ec1537c\" y=\"54.487219\"/>\r\n      </g>\r\n     </g>\r\n     <g id=\"text_7\">\r\n      <!-- 10 -->\r\n      <g transform=\"translate(7.2 58.286437)scale(0.1 -0.1)\">\r\n       <use xlink:href=\"#DejaVuSans-49\"/>\r\n       <use x=\"63.623047\" xlink:href=\"#DejaVuSans-48\"/>\r\n      </g>\r\n     </g>\r\n    </g>\r\n    <g id=\"ytick_3\">\r\n     <g id=\"line2d_8\">\r\n      <g>\r\n       <use style=\"stroke:#000000;stroke-width:0.8;\" x=\"26.925\" xlink:href=\"#mce7ec1537c\" y=\"97.975219\"/>\r\n      </g>\r\n     </g>\r\n     <g id=\"text_8\">\r\n      <!-- 20 -->\r\n      <g transform=\"translate(7.2 101.774437)scale(0.1 -0.1)\">\r\n       <use xlink:href=\"#DejaVuSans-50\"/>\r\n       <use x=\"63.623047\" xlink:href=\"#DejaVuSans-48\"/>\r\n      </g>\r\n     </g>\r\n    </g>\r\n    <g id=\"ytick_4\">\r\n     <g id=\"line2d_9\">\r\n      <g>\r\n       <use style=\"stroke:#000000;stroke-width:0.8;\" x=\"26.925\" xlink:href=\"#mce7ec1537c\" y=\"141.463219\"/>\r\n      </g>\r\n     </g>\r\n     <g id=\"text_9\">\r\n      <!-- 30 -->\r\n      <g transform=\"translate(7.2 145.262437)scale(0.1 -0.1)\">\r\n       <use xlink:href=\"#DejaVuSans-51\"/>\r\n       <use x=\"63.623047\" xlink:href=\"#DejaVuSans-48\"/>\r\n      </g>\r\n     </g>\r\n    </g>\r\n    <g id=\"ytick_5\">\r\n     <g id=\"line2d_10\">\r\n      <g>\r\n       <use style=\"stroke:#000000;stroke-width:0.8;\" x=\"26.925\" xlink:href=\"#mce7ec1537c\" y=\"184.951219\"/>\r\n      </g>\r\n     </g>\r\n     <g id=\"text_10\">\r\n      <!-- 40 -->\r\n      <g transform=\"translate(7.2 188.750437)scale(0.1 -0.1)\">\r\n       <use xlink:href=\"#DejaVuSans-52\"/>\r\n       <use x=\"63.623047\" xlink:href=\"#DejaVuSans-48\"/>\r\n      </g>\r\n     </g>\r\n    </g>\r\n   </g>\r\n   <g id=\"patch_3\">\r\n    <path d=\"M 26.925 226.264819 \r\nL 26.925 8.824819 \r\n\" style=\"fill:none;stroke:#000000;stroke-linecap:square;stroke-linejoin:miter;stroke-width:0.8;\"/>\r\n   </g>\r\n   <g id=\"patch_4\">\r\n    <path d=\"M 244.365 226.264819 \r\nL 244.365 8.824819 \r\n\" style=\"fill:none;stroke:#000000;stroke-linecap:square;stroke-linejoin:miter;stroke-width:0.8;\"/>\r\n   </g>\r\n   <g id=\"patch_5\">\r\n    <path d=\"M 26.925 226.264819 \r\nL 244.365 226.264819 \r\n\" style=\"fill:none;stroke:#000000;stroke-linecap:square;stroke-linejoin:miter;stroke-width:0.8;\"/>\r\n   </g>\r\n   <g id=\"patch_6\">\r\n    <path d=\"M 26.925 8.824819 \r\nL 244.365 8.824819 \r\n\" style=\"fill:none;stroke:#000000;stroke-linecap:square;stroke-linejoin:miter;stroke-width:0.8;\"/>\r\n   </g>\r\n  </g>\r\n </g>\r\n <defs>\r\n  <clipPath id=\"p3bed14b1f5\">\r\n   <rect height=\"217.44\" width=\"217.44\" x=\"26.925\" y=\"8.824819\"/>\r\n  </clipPath>\r\n </defs>\r\n</svg>\r\n",
      "image/png": "[encoded data removed]"
     },
     "metadata": {
      "needs_background": "light"
     }
    }
   ],
   "source": [
    "image = cv2.imread(inputCaptchaPath)\n",
    "image = cv2.resize(image, (50,50))\n",
    "plt.imshow(image)"
   ]
  },
  {
   "cell_type": "code",
   "execution_count": 226,
   "metadata": {},
   "outputs": [
    {
     "output_type": "execute_result",
     "data": {
      "text/plain": [
       "(50, 50, 3)"
      ]
     },
     "metadata": {},
     "execution_count": 226
    }
   ],
   "source": [
    "image.shape"
   ]
  },
  {
   "cell_type": "code",
   "execution_count": 227,
   "metadata": {},
   "outputs": [],
   "source": [
    "image = image.reshape(-1, 50, 50, 3)"
   ]
  },
  {
   "cell_type": "code",
   "execution_count": 228,
   "metadata": {},
   "outputs": [
    {
     "output_type": "execute_result",
     "data": {
      "text/plain": [
       "(1, 50, 50, 3)"
      ]
     },
     "metadata": {},
     "execution_count": 228
    }
   ],
   "source": [
    "image.shape"
   ]
  },
  {
   "cell_type": "code",
   "execution_count": 229,
   "metadata": {},
   "outputs": [],
   "source": [
    "prediction = model.predict(image)\n",
    "labeledPredictions = [a for a in zip(labels, prediction[0])]"
   ]
  },
  {
   "cell_type": "code",
   "execution_count": 230,
   "metadata": {},
   "outputs": [
    {
     "output_type": "stream",
     "name": "stdout",
     "text": [
      "('n', 0.99423015)\n"
     ]
    }
   ],
   "source": [
    "print(max(labeledPredictions, key=lambda x: x[1]))"
   ]
  }
 ]
}